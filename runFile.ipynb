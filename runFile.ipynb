{
 "cells": [
  {
   "cell_type": "code",
   "execution_count": null,
   "id": "b7dbc627",
   "metadata": {},
   "outputs": [],
   "source": [
    "# Dependencies - General Stuff\n",
    "import numpy as np\n",
    "import pandas as pd\n",
    "import pynwb\n",
    "\n",
    "from strfpy.calcSegmentedModel import process_unit"
   ]
  },
  {
   "cell_type": "code",
   "execution_count": null,
   "id": "4af30266",
   "metadata": {},
   "outputs": [],
   "source": [
    "nwb_file = '/Users/frederictheunissen/Working Data/OperantEphys/NWB_Files/HpiPur2667F_site02_240905_072851_pb_op_ks4_lat_250215.nwb'\n",
    "# Load the nwb file\n",
    "preprocOptions = {} # we'll leave this empty and use default options\n",
    "nwb_io =  pynwb.NWBHDF5IO(nwb_file, mode='r')\n",
    "nwb = nwb_io.read()\n",
    "units = nwb.units.to_dataframe()\n",
    "# load the good units\n",
    "good_units = units[units.group == 'good']"
   ]
  },
  {
   "cell_type": "code",
   "execution_count": null,
   "id": "1cd89898",
   "metadata": {},
   "outputs": [],
   "source": [
    "# Run all units\n",
    "\n",
    "results = []\n",
    "\n",
    "for iu in range(len(good_units)):\n",
    "    unit = good_units.iloc[iu]\n",
    "    print('-------------------------  Running  unit %d (%d/%d) -------------------' % (unit.name, iu, len(good_units)) )\n",
    "    result = process_unit(nwb_file, unit.name)\n",
    "    results.append(result)\n",
    "\n",
    "resultsDF = pd.DataFrame(results)"
   ]
  }
 ],
 "metadata": {
  "kernelspec": {
   "display_name": "ephys",
   "language": "python",
   "name": "python3"
  },
  "language_info": {
   "codemirror_mode": {
    "name": "ipython",
    "version": 3
   },
   "file_extension": ".py",
   "mimetype": "text/x-python",
   "name": "python",
   "nbconvert_exporter": "python",
   "pygments_lexer": "ipython3",
   "version": "3.11.5"
  }
 },
 "nbformat": 4,
 "nbformat_minor": 5
}
