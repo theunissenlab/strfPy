{
 "cells": [
  {
   "cell_type": "code",
   "execution_count": 2,
   "id": "72be35fb",
   "metadata": {},
   "outputs": [
    {
     "data": {
      "text/plain": [
       "<contextlib.ExitStack at 0x12f432c50>"
      ]
     },
     "execution_count": 2,
     "metadata": {},
     "output_type": "execute_result"
    }
   ],
   "source": [
    "# Dependencies - General Stuff\n",
    "import pandas as pd\n",
    "\n",
    "from matplotlib import pyplot as plt\n",
    "plt.ion()"
   ]
  },
  {
   "cell_type": "code",
   "execution_count": 3,
   "id": "b200aaa4",
   "metadata": {},
   "outputs": [],
   "source": [
    "hdf_file = '/Users/frederictheunissen/Working Data/OperantEphys/NWB_Files/HpiPur2667F_site02_240905_072851_pb_op_ks4_lat_250215.h5'\n",
    "resultsDF = pd.read_hdf(hdf_file)"
   ]
  },
  {
   "cell_type": "code",
   "execution_count": 6,
   "id": "a7988056",
   "metadata": {},
   "outputs": [
    {
     "data": {
      "image/png": "[encoded data removed]",
      "text/plain": [
       "<Figure size 640x480 with 1 Axes>"
      ]
     },
     "metadata": {},
     "output_type": "display_data"
    }
   ],
   "source": [
    "plt.figure()\n",
    "plt.plot(resultsDF['r2STRF'], resultsDF['r2segModel'], 'kx', label='Seg Model')\n",
    "plt.plot(resultsDF['r2STRF'], resultsDF['r2segIDModelDG'], 'bo', label='Seg ID Model DG')\n",
    "plt.plot([-0.5, 0.5], [-0.5, 0.5], 'k')\n",
    "plt.xlabel('STRF Prediction')\n",
    "plt.xlim((-0.5, 0.5))\n",
    "plt.ylim((-0.5, 0.5))\n",
    "plt.axis('square')\n",
    "plt.legend('bottom-right')\n",
    "\n",
    "plt.show()"
   ]
  },
  {
   "cell_type": "code",
   "execution_count": 8,
   "id": "fd7f171f",
   "metadata": {},
   "outputs": [
    {
     "data": {
      "text/html": [
       "<div>\n",
       "<style scoped>\n",
       "    .dataframe tbody tr th:only-of-type {\n",
       "        vertical-align: middle;\n",
       "    }\n",
       "\n",
       "    .dataframe tbody tr th {\n",
       "        vertical-align: top;\n",
       "    }\n",
       "\n",
       "    .dataframe thead th {\n",
       "        text-align: right;\n",
       "    }\n",
       "</style>\n",
       "<table border=\"1\" class=\"dataframe\">\n",
       "  <thead>\n",
       "    <tr style=\"text-align: right;\">\n",
       "      <th></th>\n",
       "      <th>nwb_file</th>\n",
       "      <th>unit</th>\n",
       "      <th>r2Ceil</th>\n",
       "      <th>segModel</th>\n",
       "      <th>r2segModel</th>\n",
       "      <th>Laguerre_args</th>\n",
       "      <th>dogs_args</th>\n",
       "      <th>pca_spect</th>\n",
       "      <th>segIDModelLG</th>\n",
       "      <th>r2segIDModelLG</th>\n",
       "      <th>segIDModelDG</th>\n",
       "      <th>r2segIDModelDG</th>\n",
       "      <th>strfModel</th>\n",
       "      <th>r2STRF</th>\n",
       "    </tr>\n",
       "  </thead>\n",
       "  <tbody>\n",
       "    <tr>\n",
       "      <th>2</th>\n",
       "      <td>/Users/frederictheunissen/Working Data/Operant...</td>\n",
       "      <td>3</td>\n",
       "      <td>0.379713</td>\n",
       "      <td>{'Tol': [0.1, 0.01, 0.001, 0.0001], 'R2CV': [0...</td>\n",
       "      <td>0.223830</td>\n",
       "      <td>[[13.899909705066694, 0.23557774417554567, -0....</td>\n",
       "      <td>[[6.25418648804326, 28.69293015325546, 40.3828...</td>\n",
       "      <td>PCA(n_components=20)</td>\n",
       "      <td>{'Tol': [0.6, 0.5, 0.4, 0.2, 0.15, 0.1, 0.08, ...</td>\n",
       "      <td>0.229735</td>\n",
       "      <td>{'Tol': [0.6, 0.5, 0.4, 0.2, 0.15, 0.1, 0.08, ...</td>\n",
       "      <td>0.245592</td>\n",
       "      <td>{'type': 'lin', 'nIn': 63, 'nWts': 6301, 'dela...</td>\n",
       "      <td>-0.121856</td>\n",
       "    </tr>\n",
       "    <tr>\n",
       "      <th>3</th>\n",
       "      <td>/Users/frederictheunissen/Working Data/Operant...</td>\n",
       "      <td>4</td>\n",
       "      <td>0.536210</td>\n",
       "      <td>{'Tol': [0.1, 0.01, 0.001, 0.0001], 'R2CV': [0...</td>\n",
       "      <td>0.208170</td>\n",
       "      <td>[[18.0, 1.0, 52.52949542061076, 0.0, 0.0, 0.0,...</td>\n",
       "      <td>[[5.60248641384303, 27.706379041158332, 35.727...</td>\n",
       "      <td>PCA(n_components=20)</td>\n",
       "      <td>{'Tol': [0.6, 0.5, 0.4, 0.2, 0.15, 0.1, 0.08, ...</td>\n",
       "      <td>0.215100</td>\n",
       "      <td>{'Tol': [0.6, 0.5, 0.4, 0.2, 0.15, 0.1, 0.08, ...</td>\n",
       "      <td>0.225724</td>\n",
       "      <td>{'type': 'lin', 'nIn': 63, 'nWts': 6301, 'dela...</td>\n",
       "      <td>-0.223018</td>\n",
       "    </tr>\n",
       "    <tr>\n",
       "      <th>10</th>\n",
       "      <td>/Users/frederictheunissen/Working Data/Operant...</td>\n",
       "      <td>19</td>\n",
       "      <td>0.537831</td>\n",
       "      <td>{'Tol': [0.1, 0.01, 0.001, 0.0001], 'R2CV': [0...</td>\n",
       "      <td>0.360648</td>\n",
       "      <td>[[17.9687275616769, 2.0375346870647815, -31.42...</td>\n",
       "      <td>[[-0.2337094025289272, 76.77368546748328, 75.6...</td>\n",
       "      <td>PCA(n_components=20)</td>\n",
       "      <td>{'Tol': [0.6, 0.5, 0.4, 0.2, 0.15, 0.1, 0.08, ...</td>\n",
       "      <td>0.378832</td>\n",
       "      <td>{'Tol': [0.6, 0.5, 0.4, 0.2, 0.15, 0.1, 0.08, ...</td>\n",
       "      <td>0.380981</td>\n",
       "      <td>{'type': 'lin', 'nIn': 63, 'nWts': 6301, 'dela...</td>\n",
       "      <td>-0.438414</td>\n",
       "    </tr>\n",
       "    <tr>\n",
       "      <th>14</th>\n",
       "      <td>/Users/frederictheunissen/Working Data/Operant...</td>\n",
       "      <td>28</td>\n",
       "      <td>0.694548</td>\n",
       "      <td>{'Tol': [0.1, 0.01, 0.001, 0.0001], 'R2CV': [0...</td>\n",
       "      <td>0.315092</td>\n",
       "      <td>[[35.0, 1.0, 289.6770562410087, 0.0, 0.0, 0.0,...</td>\n",
       "      <td>[[4.402302951059574, 157.07190416194916, 132.8...</td>\n",
       "      <td>PCA(n_components=20)</td>\n",
       "      <td>{'Tol': [0.6, 0.5, 0.4, 0.2, 0.15, 0.1, 0.08, ...</td>\n",
       "      <td>0.327360</td>\n",
       "      <td>{'Tol': [0.6, 0.5, 0.4, 0.2, 0.15, 0.1, 0.08, ...</td>\n",
       "      <td>0.326407</td>\n",
       "      <td>{'type': 'lin', 'nIn': 63, 'nWts': 6301, 'dela...</td>\n",
       "      <td>-0.187127</td>\n",
       "    </tr>\n",
       "  </tbody>\n",
       "</table>\n",
       "</div>"
      ],
      "text/plain": [
       "                                             nwb_file  unit    r2Ceil  \\\n",
       "2   /Users/frederictheunissen/Working Data/Operant...     3  0.379713   \n",
       "3   /Users/frederictheunissen/Working Data/Operant...     4  0.536210   \n",
       "10  /Users/frederictheunissen/Working Data/Operant...    19  0.537831   \n",
       "14  /Users/frederictheunissen/Working Data/Operant...    28  0.694548   \n",
       "\n",
       "                                             segModel  r2segModel  \\\n",
       "2   {'Tol': [0.1, 0.01, 0.001, 0.0001], 'R2CV': [0...    0.223830   \n",
       "3   {'Tol': [0.1, 0.01, 0.001, 0.0001], 'R2CV': [0...    0.208170   \n",
       "10  {'Tol': [0.1, 0.01, 0.001, 0.0001], 'R2CV': [0...    0.360648   \n",
       "14  {'Tol': [0.1, 0.01, 0.001, 0.0001], 'R2CV': [0...    0.315092   \n",
       "\n",
       "                                        Laguerre_args  \\\n",
       "2   [[13.899909705066694, 0.23557774417554567, -0....   \n",
       "3   [[18.0, 1.0, 52.52949542061076, 0.0, 0.0, 0.0,...   \n",
       "10  [[17.9687275616769, 2.0375346870647815, -31.42...   \n",
       "14  [[35.0, 1.0, 289.6770562410087, 0.0, 0.0, 0.0,...   \n",
       "\n",
       "                                            dogs_args             pca_spect  \\\n",
       "2   [[6.25418648804326, 28.69293015325546, 40.3828...  PCA(n_components=20)   \n",
       "3   [[5.60248641384303, 27.706379041158332, 35.727...  PCA(n_components=20)   \n",
       "10  [[-0.2337094025289272, 76.77368546748328, 75.6...  PCA(n_components=20)   \n",
       "14  [[4.402302951059574, 157.07190416194916, 132.8...  PCA(n_components=20)   \n",
       "\n",
       "                                         segIDModelLG  r2segIDModelLG  \\\n",
       "2   {'Tol': [0.6, 0.5, 0.4, 0.2, 0.15, 0.1, 0.08, ...        0.229735   \n",
       "3   {'Tol': [0.6, 0.5, 0.4, 0.2, 0.15, 0.1, 0.08, ...        0.215100   \n",
       "10  {'Tol': [0.6, 0.5, 0.4, 0.2, 0.15, 0.1, 0.08, ...        0.378832   \n",
       "14  {'Tol': [0.6, 0.5, 0.4, 0.2, 0.15, 0.1, 0.08, ...        0.327360   \n",
       "\n",
       "                                         segIDModelDG  r2segIDModelDG  \\\n",
       "2   {'Tol': [0.6, 0.5, 0.4, 0.2, 0.15, 0.1, 0.08, ...        0.245592   \n",
       "3   {'Tol': [0.6, 0.5, 0.4, 0.2, 0.15, 0.1, 0.08, ...        0.225724   \n",
       "10  {'Tol': [0.6, 0.5, 0.4, 0.2, 0.15, 0.1, 0.08, ...        0.380981   \n",
       "14  {'Tol': [0.6, 0.5, 0.4, 0.2, 0.15, 0.1, 0.08, ...        0.326407   \n",
       "\n",
       "                                            strfModel    r2STRF  \n",
       "2   {'type': 'lin', 'nIn': 63, 'nWts': 6301, 'dela... -0.121856  \n",
       "3   {'type': 'lin', 'nIn': 63, 'nWts': 6301, 'dela... -0.223018  \n",
       "10  {'type': 'lin', 'nIn': 63, 'nWts': 6301, 'dela... -0.438414  \n",
       "14  {'type': 'lin', 'nIn': 63, 'nWts': 6301, 'dela... -0.187127  "
      ]
     },
     "execution_count": 8,
     "metadata": {},
     "output_type": "execute_result"
    }
   ],
   "source": [
    "resultsDF[(resultsDF['r2segModel'] > 0.1) & (resultsDF['r2STRF'] < 0)]"
   ]
  }
 ],
 "metadata": {
  "kernelspec": {
   "display_name": "ephys",
   "language": "python",
   "name": "python3"
  },
  "language_info": {
   "codemirror_mode": {
    "name": "ipython",
    "version": 3
   },
   "file_extension": ".py",
   "mimetype": "text/x-python",
   "name": "python",
   "nbconvert_exporter": "python",
   "pygments_lexer": "ipython3",
   "version": "3.11.5"
  }
 },
 "nbformat": 4,
 "nbformat_minor": 5
}
