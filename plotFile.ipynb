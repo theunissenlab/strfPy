{
 "cells": [
  {
   "cell_type": "code",
   "execution_count": 1,
   "id": "72be35fb",
   "metadata": {},
   "outputs": [
    {
     "data": {
      "text/plain": [
       "<contextlib.ExitStack at 0x13da5d210>"
      ]
     },
     "execution_count": 1,
     "metadata": {},
     "output_type": "execute_result"
    }
   ],
   "source": [
    "# Dependencies - General Stuff\n",
    "import pandas as pd\n",
    "\n",
    "from matplotlib import pyplot as plt\n",
    "plt.ion()"
   ]
  },
  {
   "cell_type": "code",
   "execution_count": 2,
   "id": "b200aaa4",
   "metadata": {},
   "outputs": [],
   "source": [
    "hdf_file = '/Users/frederictheunissen/Working Data/OperantEphys/NWB_Files/HpiPur2667F_site02_240905_072851_pb_op_ks4_lat_250215.h5'\n",
    "resultsDF = pd.read_hdf(hdf_file)"
   ]
  },
  {
   "cell_type": "code",
   "execution_count": 4,
   "id": "a7988056",
   "metadata": {},
   "outputs": [
    {
     "data": {
      "image/png": "[encoded data removed]",
      "text/plain": [
       "<Figure size 640x480 with 1 Axes>"
      ]
     },
     "metadata": {},
     "output_type": "display_data"
    }
   ],
   "source": [
    "plt.figure()\n",
    "plt.plot(resultsDF['r2STRF'], resultsDF['r2segModel'], 'kx', label='Seg Model')\n",
    "plt.plot(resultsDF['r2STRF'], resultsDF['r2segIDModelLG'], 'bo', label='Seg ID Model LG')\n",
    "plt.plot([0, 0.5], [0, 0.5], 'k')\n",
    "plt.xlabel('STRF Prediction')\n",
    "plt.xlim((0, 0.5))\n",
    "plt.ylim((0, 0.5))\n",
    "plt.axis('square')\n",
    "plt.legend('bottom-right')\n",
    "\n",
    "plt.show()"
   ]
  },
  {
   "cell_type": "code",
   "execution_count": 5,
   "id": "fd7f171f",
   "metadata": {},
   "outputs": [
    {
     "data": {
      "text/html": [
       "<div>\n",
       "<style scoped>\n",
       "    .dataframe tbody tr th:only-of-type {\n",
       "        vertical-align: middle;\n",
       "    }\n",
       "\n",
       "    .dataframe tbody tr th {\n",
       "        vertical-align: top;\n",
       "    }\n",
       "\n",
       "    .dataframe thead th {\n",
       "        text-align: right;\n",
       "    }\n",
       "</style>\n",
       "<table border=\"1\" class=\"dataframe\">\n",
       "  <thead>\n",
       "    <tr style=\"text-align: right;\">\n",
       "      <th></th>\n",
       "      <th>nwb_file</th>\n",
       "      <th>unit</th>\n",
       "      <th>r2Ceil</th>\n",
       "      <th>segModel</th>\n",
       "      <th>r2segModel</th>\n",
       "      <th>Laguerre_args</th>\n",
       "      <th>dogs_args</th>\n",
       "      <th>pca_spect</th>\n",
       "      <th>pca_mps</th>\n",
       "      <th>segIDModelLG</th>\n",
       "      <th>r2segIDModelLG</th>\n",
       "      <th>segIDModelDG</th>\n",
       "      <th>r2segIDModelDG</th>\n",
       "      <th>segIDModelLGMPS</th>\n",
       "      <th>r2segIDModelLGMPS</th>\n",
       "      <th>strfModel</th>\n",
       "      <th>r2STRF</th>\n",
       "    </tr>\n",
       "  </thead>\n",
       "  <tbody>\n",
       "    <tr>\n",
       "      <th>0</th>\n",
       "      <td>/Users/frederictheunissen/Working Data/Operant...</td>\n",
       "      <td>1</td>\n",
       "      <td>0.161317</td>\n",
       "      <td>{'Tol': [0.1, 0.01, 0.001, 0.0001], 'R2CV': [0...</td>\n",
       "      <td>0.047850</td>\n",
       "      <td>[[59.82829992119662, 1.0347056164283932, -375....</td>\n",
       "      <td>[[-0.7088697438285909, 6.428097815614302, 6.94...</td>\n",
       "      <td>PCA(n_components=20)</td>\n",
       "      <td>PCA(n_components=20)</td>\n",
       "      <td>{'Tol': [0.2, 0.1, 0.05, 0.01, 0.005, 0.001, 0...</td>\n",
       "      <td>0.055340</td>\n",
       "      <td>{'Tol': [0.2, 0.1, 0.05, 0.01, 0.005, 0.001, 0...</td>\n",
       "      <td>0.053552</td>\n",
       "      <td>{'Tol': [0.2, 0.1, 0.05, 0.01, 0.005, 0.001, 0...</td>\n",
       "      <td>0.063962</td>\n",
       "      <td>{'type': 'lin', 'nIn': 63, 'nWts': 12601, 'del...</td>\n",
       "      <td>0.035336</td>\n",
       "    </tr>\n",
       "    <tr>\n",
       "      <th>1</th>\n",
       "      <td>/Users/frederictheunissen/Working Data/Operant...</td>\n",
       "      <td>2</td>\n",
       "      <td>0.363439</td>\n",
       "      <td>{'Tol': [0.1, 0.01, 0.001, 0.0001], 'R2CV': [0...</td>\n",
       "      <td>0.187309</td>\n",
       "      <td>[[4.464174347093512, 15.20421803842489, 4.4153...</td>\n",
       "      <td>[[0.7738298772523802, 13.25158084214494, 14.70...</td>\n",
       "      <td>PCA(n_components=20)</td>\n",
       "      <td>PCA(n_components=20)</td>\n",
       "      <td>{'Tol': [0.2, 0.1, 0.05, 0.01, 0.005, 0.001, 0...</td>\n",
       "      <td>0.325739</td>\n",
       "      <td>{'Tol': [0.2, 0.1, 0.05, 0.01, 0.005, 0.001, 0...</td>\n",
       "      <td>0.284236</td>\n",
       "      <td>{'Tol': [0.2, 0.1, 0.05, 0.01, 0.005, 0.001, 0...</td>\n",
       "      <td>0.288795</td>\n",
       "      <td>{'type': 'lin', 'nIn': 63, 'nWts': 12601, 'del...</td>\n",
       "      <td>0.218500</td>\n",
       "    </tr>\n",
       "    <tr>\n",
       "      <th>2</th>\n",
       "      <td>/Users/frederictheunissen/Working Data/Operant...</td>\n",
       "      <td>3</td>\n",
       "      <td>0.379713</td>\n",
       "      <td>{'Tol': [0.1, 0.01, 0.001, 0.0001], 'R2CV': [0...</td>\n",
       "      <td>0.223835</td>\n",
       "      <td>[[13.899910323298583, 0.23557763659101041, -0....</td>\n",
       "      <td>[[6.2541864954675725, 28.692929619103406, 40.3...</td>\n",
       "      <td>PCA(n_components=20)</td>\n",
       "      <td>PCA(n_components=20)</td>\n",
       "      <td>{'Tol': [0.2, 0.1, 0.05, 0.01, 0.005, 0.001, 0...</td>\n",
       "      <td>0.361638</td>\n",
       "      <td>{'Tol': [0.2, 0.1, 0.05, 0.01, 0.005, 0.001, 0...</td>\n",
       "      <td>0.303524</td>\n",
       "      <td>{'Tol': [0.2, 0.1, 0.05, 0.01, 0.005, 0.001, 0...</td>\n",
       "      <td>0.298753</td>\n",
       "      <td>{'type': 'lin', 'nIn': 63, 'nWts': 12601, 'del...</td>\n",
       "      <td>0.224630</td>\n",
       "    </tr>\n",
       "  </tbody>\n",
       "</table>\n",
       "</div>"
      ],
      "text/plain": [
       "                                            nwb_file  unit    r2Ceil  \\\n",
       "0  /Users/frederictheunissen/Working Data/Operant...     1  0.161317   \n",
       "1  /Users/frederictheunissen/Working Data/Operant...     2  0.363439   \n",
       "2  /Users/frederictheunissen/Working Data/Operant...     3  0.379713   \n",
       "\n",
       "                                            segModel  r2segModel  \\\n",
       "0  {'Tol': [0.1, 0.01, 0.001, 0.0001], 'R2CV': [0...    0.047850   \n",
       "1  {'Tol': [0.1, 0.01, 0.001, 0.0001], 'R2CV': [0...    0.187309   \n",
       "2  {'Tol': [0.1, 0.01, 0.001, 0.0001], 'R2CV': [0...    0.223835   \n",
       "\n",
       "                                       Laguerre_args  \\\n",
       "0  [[59.82829992119662, 1.0347056164283932, -375....   \n",
       "1  [[4.464174347093512, 15.20421803842489, 4.4153...   \n",
       "2  [[13.899910323298583, 0.23557763659101041, -0....   \n",
       "\n",
       "                                           dogs_args             pca_spect  \\\n",
       "0  [[-0.7088697438285909, 6.428097815614302, 6.94...  PCA(n_components=20)   \n",
       "1  [[0.7738298772523802, 13.25158084214494, 14.70...  PCA(n_components=20)   \n",
       "2  [[6.2541864954675725, 28.692929619103406, 40.3...  PCA(n_components=20)   \n",
       "\n",
       "                pca_mps                                       segIDModelLG  \\\n",
       "0  PCA(n_components=20)  {'Tol': [0.2, 0.1, 0.05, 0.01, 0.005, 0.001, 0...   \n",
       "1  PCA(n_components=20)  {'Tol': [0.2, 0.1, 0.05, 0.01, 0.005, 0.001, 0...   \n",
       "2  PCA(n_components=20)  {'Tol': [0.2, 0.1, 0.05, 0.01, 0.005, 0.001, 0...   \n",
       "\n",
       "   r2segIDModelLG                                       segIDModelDG  \\\n",
       "0        0.055340  {'Tol': [0.2, 0.1, 0.05, 0.01, 0.005, 0.001, 0...   \n",
       "1        0.325739  {'Tol': [0.2, 0.1, 0.05, 0.01, 0.005, 0.001, 0...   \n",
       "2        0.361638  {'Tol': [0.2, 0.1, 0.05, 0.01, 0.005, 0.001, 0...   \n",
       "\n",
       "   r2segIDModelDG                                    segIDModelLGMPS  \\\n",
       "0        0.053552  {'Tol': [0.2, 0.1, 0.05, 0.01, 0.005, 0.001, 0...   \n",
       "1        0.284236  {'Tol': [0.2, 0.1, 0.05, 0.01, 0.005, 0.001, 0...   \n",
       "2        0.303524  {'Tol': [0.2, 0.1, 0.05, 0.01, 0.005, 0.001, 0...   \n",
       "\n",
       "   r2segIDModelLGMPS                                          strfModel  \\\n",
       "0           0.063962  {'type': 'lin', 'nIn': 63, 'nWts': 12601, 'del...   \n",
       "1           0.288795  {'type': 'lin', 'nIn': 63, 'nWts': 12601, 'del...   \n",
       "2           0.298753  {'type': 'lin', 'nIn': 63, 'nWts': 12601, 'del...   \n",
       "\n",
       "     r2STRF  \n",
       "0  0.035336  \n",
       "1  0.218500  \n",
       "2  0.224630  "
      ]
     },
     "execution_count": 5,
     "metadata": {},
     "output_type": "execute_result"
    }
   ],
   "source": [
    "resultsDF"
   ]
  }
 ],
 "metadata": {
  "kernelspec": {
   "display_name": "ephys",
   "language": "python",
   "name": "python3"
  },
  "language_info": {
   "codemirror_mode": {
    "name": "ipython",
    "version": 3
   },
   "file_extension": ".py",
   "mimetype": "text/x-python",
   "name": "python",
   "nbconvert_exporter": "python",
   "pygments_lexer": "ipython3",
   "version": "3.11.5"
  }
 },
 "nbformat": 4,
 "nbformat_minor": 5
}
