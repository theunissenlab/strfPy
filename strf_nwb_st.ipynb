{
 "cells": [
  {
   "cell_type": "code",
   "execution_count": null,
   "metadata": {},
   "outputs": [],
   "source": [
    "# Dependencies - General Stuff\n",
    "import numpy as np\n",
    "import importlib\n",
    "import tempfile\n",
    "from scipy.signal import find_peaks\n",
    "\n",
    "# strfpy\n",
    "from strfpy import preprocSound, strfSetup, trnDirectFit, calcSegmentedModel\n",
    "from strfpy.timeFreq import timefreq_raw\n",
    "from soundsig.sound import spec_colormap\n",
    "\n",
    "import pynwb\n",
    "from matplotlib import pyplot as plt\n",
    "# %matplotlib widget\n",
    "plt.ion()"
   ]
  },
  {
   "cell_type": "markdown",
   "metadata": {},
   "source": [
    "#### Read the data file"
   ]
  },
  {
   "cell_type": "code",
   "execution_count": null,
   "metadata": {},
   "outputs": [],
   "source": [
    "# nwb_file = '/aquila_ssd2/lthomas/songephys_data/OperantEphys/HpiPur2667F/sites/HpiPur2667F_site02_240905_072851_pb_op/HpiPur2667F_site02_240905_072851_pb_op_ks4_lat_250215.nwb'\n",
    "\n",
    "nwb_file = '/Users/frederictheunissen/Working Data/OperantEphys/NWB_Files/HpiPur2667F_site02_240905_072851_pb_op_ks4_lat_250215.nwb'\n",
    "# Load the nwb file\n",
    "preprocOptions = {} # we'll leave this empty and use default options\n",
    "nwb_io =  pynwb.NWBHDF5IO(nwb_file, mode='r')\n",
    "nwb = nwb_io.read()\n",
    "units = nwb.units.to_dataframe()\n",
    "# load the good units\n",
    "good_units = units[units.group == 'good']\n"
   ]
  },
  {
   "cell_type": "code",
   "execution_count": null,
   "metadata": {},
   "outputs": [],
   "source": [
    "# sample a random unit\n",
    "unit = good_units.sample().iloc[0]\n",
    "unit = good_units.iloc[10]       # This is a good example for a neuron with strong onset-offset response - positive onset and negative offset\n",
    "# unit = good_units.iloc[7]\n",
    "print(\"Processing unit: \", unit.name)"
   ]
  },
  {
   "cell_type": "markdown",
   "metadata": {},
   "source": [
    "### Plot the stim and microphone data of a random playback trial"
   ]
  },
  {
   "cell_type": "code",
   "execution_count": null,
   "metadata": {},
   "outputs": [],
   "source": [
    "def get_mic_data(nwb, trial):\n",
    "    rate = nwb.acquisition['audio'].rate\n",
    "    mic_data = nwb.acquisition['audio'].data\n",
    "    start_id = int(trial.start_time * rate)\n",
    "    end_id = int(trial.stop_time * rate)\n",
    "    mic_trial = mic_data[start_id:end_id]\n",
    "    return mic_trial[:,1], mic_trial[:,0]"
   ]
  },
  {
   "cell_type": "code",
   "execution_count": null,
   "metadata": {},
   "outputs": [],
   "source": [
    "# lets take one trial and compare the spectrogram to the spectrogram of the microphone data\n",
    "# lets get a ranodm trial\n",
    "trials = nwb.intervals['playback_trials'].to_dataframe()"
   ]
  },
  {
   "cell_type": "markdown",
   "metadata": {},
   "source": [
    "Repeat the cell below to get another example"
   ]
  },
  {
   "cell_type": "code",
   "execution_count": null,
   "metadata": {},
   "outputs": [],
   "source": [
    "# Choose a ramdom trial\n",
    "trial = trials.sample().iloc[0]\n",
    "mic_trial, mic_copy = get_mic_data(nwb, trial)\n",
    "rate = nwb.acquisition['audio'].rate\n",
    "\n",
    "# Spectrogram paramteters.\n",
    "stim_params = {}\n",
    "stim_params['fband'] = 120\n",
    "stim_params['nstd'] = 6\n",
    "stim_params['high_freq'] = 8000\n",
    "stim_params['low_freq'] = 250\n",
    "stim_params['log'] = 1\n",
    "stim_params['stim_rate'] = 1000  # Sample rate of spectrogram\n",
    "DBNOISE = 80\n",
    "# Colormap for plotting spectrograms\n",
    "spec_colormap()   # defined in sound.py\n",
    "\n",
    "\n",
    "# First figure for the microphone copy\n",
    "f, (ax1, ax2) = plt.subplots(2, 1, sharex=True, dpi=100, figsize = (8,4))\n",
    "\n",
    "tfrep = timefreq_raw(mic_copy, rate, 'ft', params=stim_params)\n",
    "cmap = plt.get_cmap('SpectroColorMap')\n",
    "\n",
    "minSpect = tfrep['spec'].max()-DBNOISE\n",
    "maxB = tfrep['spec'].max()\n",
    "ax1.imshow(tfrep['spec'], extent=[tfrep['t'][0], tfrep['t'][-1], tfrep['f'][0]*1e-3, tfrep['f'][-1]*1e-3],\n",
    "                aspect='auto', interpolation='nearest', origin='lower', cmap=cmap, vmin=minSpect, vmax=maxB)\n",
    "ax1.set_ylim(0, 8)\n",
    "ax1.set_ylabel('Frequency (kHz)')\n",
    "\n",
    "tval = np.arange(stop=len(mic_copy))/rate\n",
    "ax2.plot(tval, mic_copy)\n",
    "ax2.set_xlabel('Time (s)')\n",
    "\n",
    "# Second copy for the microphone \n",
    "f, (ax1, ax2) = plt.subplots(2, 1, sharex=True, dpi=100, figsize = (8,4))\n",
    "\n",
    "tfrep = timefreq_raw(mic_trial, rate, 'ft', params=stim_params)\n",
    "minSpect = tfrep['spec'].max()-DBNOISE\n",
    "maxB = tfrep['spec'].max()\n",
    "ax1.imshow(tfrep['spec'], extent=[tfrep['t'][0], tfrep['t'][-1], tfrep['f'][0]*1e-3, tfrep['f'][-1]*1e-3],\n",
    "                aspect='auto', interpolation='nearest', origin='lower', cmap=cmap, vmin=minSpect, vmax=maxB)\n",
    "ax1.set_ylim(0, 8)\n",
    "ax1.set_ylabel('Frequency (kHz)')\n",
    "\n",
    "tval = np.arange(stop=len(mic_trial))/rate\n",
    "ax2.plot(tval, mic_trial)\n",
    "ax2.set_xlabel('Time (s)')\n",
    "\n"
   ]
  },
  {
   "cell_type": "markdown",
   "metadata": {},
   "source": [
    "### Create a single trial stimulus-response data set (srData) "
   ]
  },
  {
   "cell_type": "code",
   "execution_count": null,
   "metadata": {},
   "outputs": [],
   "source": [
    "# SINGLE TRIAL \n",
    "srData_st = preprocSound.generate_srData_nwb_single_trials(nwb, 'playback_trials',unit.name, balanceFlg=False)\n",
    "calcSegmentedModel.preprocess_srData(srData_st, plot=False, respChunkLen=respChunkLen, segmentBuffer=segmentBuffer, tdelta=0, plotFlg = False, seg_spec_lookup = nwb.processing['stimuli_spectrograms'])\n",
    "print('This playback stim-response data set has %d trials.' % (len(srData_st['datasets'])))\n",
    "\n",
    "stim_names = []\n",
    "for ids, ds in enumerate(srData_st['datasets']):\n",
    "    stim_names.append(ds['stim']['rawFile'])\n",
    "\n",
    "unique_stims = np.unique(stim_names)\n",
    "\n",
    "print('There are %d unique stimuli' % len(unique_stims))"
   ]
  },
  {
   "cell_type": "code",
   "execution_count": null,
   "metadata": {},
   "outputs": [],
   "source": [
    "# Calculate mean onset and offet based on single trial data.\n",
    "meansOnOff_st = np.zeros((2,nPoints))\n",
    "nEventsOnOff_st = np.zeros((2,1))\n",
    "responseAvg_st = 0\n",
    "stimLenTot = 0\n",
    "\n",
    "for ds in srData_st['datasets']:\n",
    "    events = ds['events']\n",
    "    nEvents = len(events['index'])\n",
    "    stimLen = ds['resp']['psth_smooth'].shape[0]\n",
    "    responseAvg_st += np.sum(ds['resp']['psth_smooth'])\n",
    "    stimLenTot += stimLen\n",
    "    for iEvent in range(nEvents):\n",
    "        startInd = events['index'][iEvent]\n",
    "        endInd = startInd + nPoints\n",
    "        if (endInd>stimLen):\n",
    "            endInd = stimLen\n",
    "        if (events['onoff_feature'][iEvent][0] == 1 ):\n",
    "            meansOnOff_st[0,0:endInd-startInd] = meansOnOff_st[0,0:endInd-startInd] + ds['resp']['psth_smooth'][startInd:endInd]\n",
    "            nEventsOnOff_st[0] += 1\n",
    "        else:\n",
    "            meansOnOff_st[1,0:endInd-startInd] = meansOnOff_st[1,0:endInd-startInd] + ds['resp']['psth_smooth'][startInd:endInd]\n",
    "            nEventsOnOff_st[1] += 1\n",
    "\n",
    "meansOnOff_st[0,:] /= nEventsOnOff_st[0]\n",
    "meansOnOff_st[1,:] /= nEventsOnOff_st[1]\n",
    "responseAvg_st /= stimLenTot\n",
    "\n",
    "meansOnOff_st[0,:] -= responseAvg_st\n",
    "meansOnOff_st[1,:] -= responseAvg_st\n"
   ]
  },
  {
   "cell_type": "code",
   "execution_count": null,
   "metadata": {},
   "outputs": [],
   "source": [
    "# Plot the average responses per-stim versus single trials.\n",
    "\n",
    "plt.plot(meansOnOff[0,:], 'r', label='Onset PSTH')\n",
    "plt.plot(meansOnOff[1,:], 'b', label='Offset PSTH')\n",
    "plt.plot(meansOnOff_st[0,:], 'r--', label='Onset ST')\n",
    "plt.plot(meansOnOff_st[1,:], 'b--', label='Off ST')\n",
    "plt.legend()\n",
    "plt.xlabel('Time (ms)')\n",
    "plt.ylabel('Spike Rate (spikes/s)')"
   ]
  }
 ],
 "metadata": {
  "kernelspec": {
   "display_name": "ephys",
   "language": "python",
   "name": "python3"
  },
  "language_info": {
   "codemirror_mode": {
    "name": "ipython",
    "version": 3
   },
   "file_extension": ".py",
   "mimetype": "text/x-python",
   "name": "python",
   "nbconvert_exporter": "python",
   "pygments_lexer": "ipython3",
   "version": "3.11.5"
  }
 },
 "nbformat": 4,
 "nbformat_minor": 2
}
